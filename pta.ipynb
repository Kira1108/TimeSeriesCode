{
 "cells": [
  {
   "cell_type": "code",
   "execution_count": 2,
   "metadata": {},
   "outputs": [],
   "source": [
    "import pandas as pd\n",
    "import matplotlib.pyplot as plt\n",
    "%config InlineBackend.figure_format = 'retina'\n",
    "\n",
    "df = pd.read_excel(\"./data_files/cnooc/PTA price.xlsx\")"
   ]
  },
  {
   "cell_type": "code",
   "execution_count": 3,
   "metadata": {},
   "outputs": [
    {
     "data": {
      "text/html": [
       "<div>\n",
       "<style scoped>\n",
       "    .dataframe tbody tr th:only-of-type {\n",
       "        vertical-align: middle;\n",
       "    }\n",
       "\n",
       "    .dataframe tbody tr th {\n",
       "        vertical-align: top;\n",
       "    }\n",
       "\n",
       "    .dataframe thead th {\n",
       "        text-align: right;\n",
       "    }\n",
       "</style>\n",
       "<table border=\"1\" class=\"dataframe\">\n",
       "  <thead>\n",
       "    <tr style=\"text-align: right;\">\n",
       "      <th></th>\n",
       "      <th>capacity</th>\n",
       "      <th>import</th>\n",
       "      <th>export</th>\n",
       "      <th>storage</th>\n",
       "      <th>demand</th>\n",
       "      <th>PTA_price_tax</th>\n",
       "      <th>PX_price</th>\n",
       "      <th>tax</th>\n",
       "      <th>PTA_price</th>\n",
       "      <th>diff</th>\n",
       "    </tr>\n",
       "  </thead>\n",
       "  <tbody>\n",
       "    <tr>\n",
       "      <th>0</th>\n",
       "      <td>127.47</td>\n",
       "      <td>15.710596</td>\n",
       "      <td>0.620400</td>\n",
       "      <td>28.094951</td>\n",
       "      <td>122.296741</td>\n",
       "      <td>7496.304348</td>\n",
       "      <td>10484.736842</td>\n",
       "      <td>0.17</td>\n",
       "      <td>6407.097733</td>\n",
       "      <td>537.437364</td>\n",
       "    </tr>\n",
       "    <tr>\n",
       "      <th>1</th>\n",
       "      <td>180.73</td>\n",
       "      <td>14.632831</td>\n",
       "      <td>1.006904</td>\n",
       "      <td>49.574208</td>\n",
       "      <td>145.624816</td>\n",
       "      <td>7322.800000</td>\n",
       "      <td>10407.619048</td>\n",
       "      <td>0.17</td>\n",
       "      <td>6258.803419</td>\n",
       "      <td>432.315832</td>\n",
       "    </tr>\n",
       "    <tr>\n",
       "      <th>2</th>\n",
       "      <td>239.41</td>\n",
       "      <td>15.760656</td>\n",
       "      <td>1.516338</td>\n",
       "      <td>67.549705</td>\n",
       "      <td>207.190186</td>\n",
       "      <td>7417.500000</td>\n",
       "      <td>10574.090909</td>\n",
       "      <td>0.17</td>\n",
       "      <td>6339.743590</td>\n",
       "      <td>420.060218</td>\n",
       "    </tr>\n",
       "    <tr>\n",
       "      <th>3</th>\n",
       "      <td>205.26</td>\n",
       "      <td>14.043811</td>\n",
       "      <td>2.550733</td>\n",
       "      <td>60.552163</td>\n",
       "      <td>200.764463</td>\n",
       "      <td>6950.000000</td>\n",
       "      <td>10008.181818</td>\n",
       "      <td>0.17</td>\n",
       "      <td>5940.170940</td>\n",
       "      <td>337.299922</td>\n",
       "    </tr>\n",
       "    <tr>\n",
       "      <th>4</th>\n",
       "      <td>95.93</td>\n",
       "      <td>7.603871</td>\n",
       "      <td>1.595376</td>\n",
       "      <td>31.472527</td>\n",
       "      <td>119.001141</td>\n",
       "      <td>6529.411765</td>\n",
       "      <td>9510.000000</td>\n",
       "      <td>0.17</td>\n",
       "      <td>5580.693816</td>\n",
       "      <td>256.719457</td>\n",
       "    </tr>\n",
       "    <tr>\n",
       "      <th>...</th>\n",
       "      <td>...</td>\n",
       "      <td>...</td>\n",
       "      <td>...</td>\n",
       "      <td>...</td>\n",
       "      <td>...</td>\n",
       "      <td>...</td>\n",
       "      <td>...</td>\n",
       "      <td>...</td>\n",
       "      <td>...</td>\n",
       "      <td>...</td>\n",
       "    </tr>\n",
       "    <tr>\n",
       "      <th>86</th>\n",
       "      <td>410.05</td>\n",
       "      <td>1.847973</td>\n",
       "      <td>13.970251</td>\n",
       "      <td>97.099624</td>\n",
       "      <td>416.228649</td>\n",
       "      <td>3535.652174</td>\n",
       "      <td>4520.000000</td>\n",
       "      <td>0.13</td>\n",
       "      <td>3128.895729</td>\n",
       "      <td>508.895729</td>\n",
       "    </tr>\n",
       "    <tr>\n",
       "      <th>87</th>\n",
       "      <td>486.14</td>\n",
       "      <td>1.062365</td>\n",
       "      <td>9.500224</td>\n",
       "      <td>71.713790</td>\n",
       "      <td>519.963693</td>\n",
       "      <td>3786.000000</td>\n",
       "      <td>5080.000000</td>\n",
       "      <td>0.13</td>\n",
       "      <td>3350.442478</td>\n",
       "      <td>405.840708</td>\n",
       "    </tr>\n",
       "    <tr>\n",
       "      <th>88</th>\n",
       "      <td>308.63</td>\n",
       "      <td>0.200565</td>\n",
       "      <td>19.659156</td>\n",
       "      <td>53.952346</td>\n",
       "      <td>345.850034</td>\n",
       "      <td>4198.125000</td>\n",
       "      <td>5730.882353</td>\n",
       "      <td>0.13</td>\n",
       "      <td>3715.154867</td>\n",
       "      <td>393.271733</td>\n",
       "    </tr>\n",
       "    <tr>\n",
       "      <th>89</th>\n",
       "      <td>400.51</td>\n",
       "      <td>0.377583</td>\n",
       "      <td>33.867440</td>\n",
       "      <td>65.099979</td>\n",
       "      <td>422.852225</td>\n",
       "      <td>4466.521739</td>\n",
       "      <td>6276.086957</td>\n",
       "      <td>0.13</td>\n",
       "      <td>3952.674105</td>\n",
       "      <td>314.765294</td>\n",
       "    </tr>\n",
       "    <tr>\n",
       "      <th>90</th>\n",
       "      <td>479.84</td>\n",
       "      <td>0.505597</td>\n",
       "      <td>25.949305</td>\n",
       "      <td>63.665747</td>\n",
       "      <td>506.717939</td>\n",
       "      <td>4536.363636</td>\n",
       "      <td>6278.181818</td>\n",
       "      <td>0.13</td>\n",
       "      <td>4014.481094</td>\n",
       "      <td>375.358005</td>\n",
       "    </tr>\n",
       "  </tbody>\n",
       "</table>\n",
       "<p>91 rows × 10 columns</p>\n",
       "</div>"
      ],
      "text/plain": [
       "    capacity     import     export    storage      demand  PTA_price_tax  \\\n",
       "0     127.47  15.710596   0.620400  28.094951  122.296741    7496.304348   \n",
       "1     180.73  14.632831   1.006904  49.574208  145.624816    7322.800000   \n",
       "2     239.41  15.760656   1.516338  67.549705  207.190186    7417.500000   \n",
       "3     205.26  14.043811   2.550733  60.552163  200.764463    6950.000000   \n",
       "4      95.93   7.603871   1.595376  31.472527  119.001141    6529.411765   \n",
       "..       ...        ...        ...        ...         ...            ...   \n",
       "86    410.05   1.847973  13.970251  97.099624  416.228649    3535.652174   \n",
       "87    486.14   1.062365   9.500224  71.713790  519.963693    3786.000000   \n",
       "88    308.63   0.200565  19.659156  53.952346  345.850034    4198.125000   \n",
       "89    400.51   0.377583  33.867440  65.099979  422.852225    4466.521739   \n",
       "90    479.84   0.505597  25.949305  63.665747  506.717939    4536.363636   \n",
       "\n",
       "        PX_price   tax    PTA_price        diff  \n",
       "0   10484.736842  0.17  6407.097733  537.437364  \n",
       "1   10407.619048  0.17  6258.803419  432.315832  \n",
       "2   10574.090909  0.17  6339.743590  420.060218  \n",
       "3   10008.181818  0.17  5940.170940  337.299922  \n",
       "4    9510.000000  0.17  5580.693816  256.719457  \n",
       "..           ...   ...          ...         ...  \n",
       "86   4520.000000  0.13  3128.895729  508.895729  \n",
       "87   5080.000000  0.13  3350.442478  405.840708  \n",
       "88   5730.882353  0.13  3715.154867  393.271733  \n",
       "89   6276.086957  0.13  3952.674105  314.765294  \n",
       "90   6278.181818  0.13  4014.481094  375.358005  \n",
       "\n",
       "[91 rows x 10 columns]"
      ]
     },
     "execution_count": 3,
     "metadata": {},
     "output_type": "execute_result"
    }
   ],
   "source": [
    "df"
   ]
  },
  {
   "cell_type": "code",
   "execution_count": 4,
   "metadata": {},
   "outputs": [],
   "source": [
    "import seaborn as sns"
   ]
  },
  {
   "cell_type": "code",
   "execution_count": 5,
   "metadata": {},
   "outputs": [],
   "source": [
    "features = ['capacity', 'import', 'export', 'storage', 'demand','PX_price']\n",
    "features.remove(\"PX_price\")\n",
    "target = \"PTA_price\""
   ]
  },
  {
   "cell_type": "code",
   "execution_count": 6,
   "metadata": {},
   "outputs": [],
   "source": [
    "from sklearn.tree import DecisionTreeRegressor\n",
    "from sklearn.model_selection import train_test_split\n",
    "from sklearn.preprocessing import StandardScaler"
   ]
  },
  {
   "cell_type": "code",
   "execution_count": 7,
   "metadata": {},
   "outputs": [],
   "source": [
    "df = df[features + [target]].copy()"
   ]
  },
  {
   "cell_type": "code",
   "execution_count": 8,
   "metadata": {},
   "outputs": [],
   "source": [
    "X_train, X_test, y_train, y_test = train_test_split(df[features], df[target], test_size=0.2, random_state=0)\n",
    "cols = X_train.columns\n",
    "scaler = StandardScaler()\n",
    "X_train = pd.DataFrame(scaler.fit_transform(X_train), columns = cols)\n",
    "X_test = pd.DataFrame(scaler.transform(X_test), columns = cols)"
   ]
  },
  {
   "cell_type": "code",
   "execution_count": 9,
   "metadata": {},
   "outputs": [
    {
     "data": {
      "text/html": [
       "<style>#sk-container-id-1 {color: black;background-color: white;}#sk-container-id-1 pre{padding: 0;}#sk-container-id-1 div.sk-toggleable {background-color: white;}#sk-container-id-1 label.sk-toggleable__label {cursor: pointer;display: block;width: 100%;margin-bottom: 0;padding: 0.3em;box-sizing: border-box;text-align: center;}#sk-container-id-1 label.sk-toggleable__label-arrow:before {content: \"▸\";float: left;margin-right: 0.25em;color: #696969;}#sk-container-id-1 label.sk-toggleable__label-arrow:hover:before {color: black;}#sk-container-id-1 div.sk-estimator:hover label.sk-toggleable__label-arrow:before {color: black;}#sk-container-id-1 div.sk-toggleable__content {max-height: 0;max-width: 0;overflow: hidden;text-align: left;background-color: #f0f8ff;}#sk-container-id-1 div.sk-toggleable__content pre {margin: 0.2em;color: black;border-radius: 0.25em;background-color: #f0f8ff;}#sk-container-id-1 input.sk-toggleable__control:checked~div.sk-toggleable__content {max-height: 200px;max-width: 100%;overflow: auto;}#sk-container-id-1 input.sk-toggleable__control:checked~label.sk-toggleable__label-arrow:before {content: \"▾\";}#sk-container-id-1 div.sk-estimator input.sk-toggleable__control:checked~label.sk-toggleable__label {background-color: #d4ebff;}#sk-container-id-1 div.sk-label input.sk-toggleable__control:checked~label.sk-toggleable__label {background-color: #d4ebff;}#sk-container-id-1 input.sk-hidden--visually {border: 0;clip: rect(1px 1px 1px 1px);clip: rect(1px, 1px, 1px, 1px);height: 1px;margin: -1px;overflow: hidden;padding: 0;position: absolute;width: 1px;}#sk-container-id-1 div.sk-estimator {font-family: monospace;background-color: #f0f8ff;border: 1px dotted black;border-radius: 0.25em;box-sizing: border-box;margin-bottom: 0.5em;}#sk-container-id-1 div.sk-estimator:hover {background-color: #d4ebff;}#sk-container-id-1 div.sk-parallel-item::after {content: \"\";width: 100%;border-bottom: 1px solid gray;flex-grow: 1;}#sk-container-id-1 div.sk-label:hover label.sk-toggleable__label {background-color: #d4ebff;}#sk-container-id-1 div.sk-serial::before {content: \"\";position: absolute;border-left: 1px solid gray;box-sizing: border-box;top: 0;bottom: 0;left: 50%;z-index: 0;}#sk-container-id-1 div.sk-serial {display: flex;flex-direction: column;align-items: center;background-color: white;padding-right: 0.2em;padding-left: 0.2em;position: relative;}#sk-container-id-1 div.sk-item {position: relative;z-index: 1;}#sk-container-id-1 div.sk-parallel {display: flex;align-items: stretch;justify-content: center;background-color: white;position: relative;}#sk-container-id-1 div.sk-item::before, #sk-container-id-1 div.sk-parallel-item::before {content: \"\";position: absolute;border-left: 1px solid gray;box-sizing: border-box;top: 0;bottom: 0;left: 50%;z-index: -1;}#sk-container-id-1 div.sk-parallel-item {display: flex;flex-direction: column;z-index: 1;position: relative;background-color: white;}#sk-container-id-1 div.sk-parallel-item:first-child::after {align-self: flex-end;width: 50%;}#sk-container-id-1 div.sk-parallel-item:last-child::after {align-self: flex-start;width: 50%;}#sk-container-id-1 div.sk-parallel-item:only-child::after {width: 0;}#sk-container-id-1 div.sk-dashed-wrapped {border: 1px dashed gray;margin: 0 0.4em 0.5em 0.4em;box-sizing: border-box;padding-bottom: 0.4em;background-color: white;}#sk-container-id-1 div.sk-label label {font-family: monospace;font-weight: bold;display: inline-block;line-height: 1.2em;}#sk-container-id-1 div.sk-label-container {text-align: center;}#sk-container-id-1 div.sk-container {/* jupyter's `normalize.less` sets `[hidden] { display: none; }` but bootstrap.min.css set `[hidden] { display: none !important; }` so we also need the `!important` here to be able to override the default hidden behavior on the sphinx rendered scikit-learn.org. See: https://github.com/scikit-learn/scikit-learn/issues/21755 */display: inline-block !important;position: relative;}#sk-container-id-1 div.sk-text-repr-fallback {display: none;}</style><div id=\"sk-container-id-1\" class=\"sk-top-container\"><div class=\"sk-text-repr-fallback\"><pre>DecisionTreeRegressor(max_depth=3, min_samples_leaf=10)</pre><b>In a Jupyter environment, please rerun this cell to show the HTML representation or trust the notebook. <br />On GitHub, the HTML representation is unable to render, please try loading this page with nbviewer.org.</b></div><div class=\"sk-container\" hidden><div class=\"sk-item\"><div class=\"sk-estimator sk-toggleable\"><input class=\"sk-toggleable__control sk-hidden--visually\" id=\"sk-estimator-id-1\" type=\"checkbox\" checked><label for=\"sk-estimator-id-1\" class=\"sk-toggleable__label sk-toggleable__label-arrow\">DecisionTreeRegressor</label><div class=\"sk-toggleable__content\"><pre>DecisionTreeRegressor(max_depth=3, min_samples_leaf=10)</pre></div></div></div></div></div>"
      ],
      "text/plain": [
       "DecisionTreeRegressor(max_depth=3, min_samples_leaf=10)"
      ]
     },
     "execution_count": 9,
     "metadata": {},
     "output_type": "execute_result"
    }
   ],
   "source": [
    "model = DecisionTreeRegressor(max_depth = 3, min_samples_leaf=10)\n",
    "model.fit(X_train, y_train)"
   ]
  },
  {
   "cell_type": "code",
   "execution_count": 10,
   "metadata": {},
   "outputs": [
    {
     "name": "stdout",
     "output_type": "stream",
     "text": [
      "RMSE train: 595.06\n",
      "RMSE test: 1105.76\n"
     ]
    }
   ],
   "source": [
    "from sklearn.metrics import mean_squared_error\n",
    "import numpy as np\n",
    "\n",
    "rms_train = np.sqrt(mean_squared_error(y_train, model.predict(X_train)))\n",
    "rms_test = np.sqrt(mean_squared_error(y_test, model.predict(X_test)))\n",
    "\n",
    "print(\"RMSE train: %.2f\" % rms_train)\n",
    "print(\"RMSE test: %.2f\" % rms_test)"
   ]
  },
  {
   "cell_type": "code",
   "execution_count": 11,
   "metadata": {},
   "outputs": [
    {
     "data": {
      "text/html": [
       "<div>\n",
       "<style scoped>\n",
       "    .dataframe tbody tr th:only-of-type {\n",
       "        vertical-align: middle;\n",
       "    }\n",
       "\n",
       "    .dataframe tbody tr th {\n",
       "        vertical-align: top;\n",
       "    }\n",
       "\n",
       "    .dataframe thead th {\n",
       "        text-align: right;\n",
       "    }\n",
       "</style>\n",
       "<table border=\"1\" class=\"dataframe\">\n",
       "  <thead>\n",
       "    <tr style=\"text-align: right;\">\n",
       "      <th></th>\n",
       "      <th>capacity</th>\n",
       "      <th>import</th>\n",
       "      <th>export</th>\n",
       "      <th>storage</th>\n",
       "      <th>demand</th>\n",
       "      <th>PTA_price</th>\n",
       "    </tr>\n",
       "  </thead>\n",
       "  <tbody>\n",
       "    <tr>\n",
       "      <th>0</th>\n",
       "      <td>127.47</td>\n",
       "      <td>15.710596</td>\n",
       "      <td>0.620400</td>\n",
       "      <td>28.094951</td>\n",
       "      <td>122.296741</td>\n",
       "      <td>6407.097733</td>\n",
       "    </tr>\n",
       "    <tr>\n",
       "      <th>1</th>\n",
       "      <td>180.73</td>\n",
       "      <td>14.632831</td>\n",
       "      <td>1.006904</td>\n",
       "      <td>49.574208</td>\n",
       "      <td>145.624816</td>\n",
       "      <td>6258.803419</td>\n",
       "    </tr>\n",
       "    <tr>\n",
       "      <th>2</th>\n",
       "      <td>239.41</td>\n",
       "      <td>15.760656</td>\n",
       "      <td>1.516338</td>\n",
       "      <td>67.549705</td>\n",
       "      <td>207.190186</td>\n",
       "      <td>6339.743590</td>\n",
       "    </tr>\n",
       "    <tr>\n",
       "      <th>3</th>\n",
       "      <td>205.26</td>\n",
       "      <td>14.043811</td>\n",
       "      <td>2.550733</td>\n",
       "      <td>60.552163</td>\n",
       "      <td>200.764463</td>\n",
       "      <td>5940.170940</td>\n",
       "    </tr>\n",
       "    <tr>\n",
       "      <th>4</th>\n",
       "      <td>95.93</td>\n",
       "      <td>7.603871</td>\n",
       "      <td>1.595376</td>\n",
       "      <td>31.472527</td>\n",
       "      <td>119.001141</td>\n",
       "      <td>5580.693816</td>\n",
       "    </tr>\n",
       "    <tr>\n",
       "      <th>...</th>\n",
       "      <td>...</td>\n",
       "      <td>...</td>\n",
       "      <td>...</td>\n",
       "      <td>...</td>\n",
       "      <td>...</td>\n",
       "      <td>...</td>\n",
       "    </tr>\n",
       "    <tr>\n",
       "      <th>86</th>\n",
       "      <td>410.05</td>\n",
       "      <td>1.847973</td>\n",
       "      <td>13.970251</td>\n",
       "      <td>97.099624</td>\n",
       "      <td>416.228649</td>\n",
       "      <td>3128.895729</td>\n",
       "    </tr>\n",
       "    <tr>\n",
       "      <th>87</th>\n",
       "      <td>486.14</td>\n",
       "      <td>1.062365</td>\n",
       "      <td>9.500224</td>\n",
       "      <td>71.713790</td>\n",
       "      <td>519.963693</td>\n",
       "      <td>3350.442478</td>\n",
       "    </tr>\n",
       "    <tr>\n",
       "      <th>88</th>\n",
       "      <td>308.63</td>\n",
       "      <td>0.200565</td>\n",
       "      <td>19.659156</td>\n",
       "      <td>53.952346</td>\n",
       "      <td>345.850034</td>\n",
       "      <td>3715.154867</td>\n",
       "    </tr>\n",
       "    <tr>\n",
       "      <th>89</th>\n",
       "      <td>400.51</td>\n",
       "      <td>0.377583</td>\n",
       "      <td>33.867440</td>\n",
       "      <td>65.099979</td>\n",
       "      <td>422.852225</td>\n",
       "      <td>3952.674105</td>\n",
       "    </tr>\n",
       "    <tr>\n",
       "      <th>90</th>\n",
       "      <td>479.84</td>\n",
       "      <td>0.505597</td>\n",
       "      <td>25.949305</td>\n",
       "      <td>63.665747</td>\n",
       "      <td>506.717939</td>\n",
       "      <td>4014.481094</td>\n",
       "    </tr>\n",
       "  </tbody>\n",
       "</table>\n",
       "<p>91 rows × 6 columns</p>\n",
       "</div>"
      ],
      "text/plain": [
       "    capacity     import     export    storage      demand    PTA_price\n",
       "0     127.47  15.710596   0.620400  28.094951  122.296741  6407.097733\n",
       "1     180.73  14.632831   1.006904  49.574208  145.624816  6258.803419\n",
       "2     239.41  15.760656   1.516338  67.549705  207.190186  6339.743590\n",
       "3     205.26  14.043811   2.550733  60.552163  200.764463  5940.170940\n",
       "4      95.93   7.603871   1.595376  31.472527  119.001141  5580.693816\n",
       "..       ...        ...        ...        ...         ...          ...\n",
       "86    410.05   1.847973  13.970251  97.099624  416.228649  3128.895729\n",
       "87    486.14   1.062365   9.500224  71.713790  519.963693  3350.442478\n",
       "88    308.63   0.200565  19.659156  53.952346  345.850034  3715.154867\n",
       "89    400.51   0.377583  33.867440  65.099979  422.852225  3952.674105\n",
       "90    479.84   0.505597  25.949305  63.665747  506.717939  4014.481094\n",
       "\n",
       "[91 rows x 6 columns]"
      ]
     },
     "execution_count": 11,
     "metadata": {},
     "output_type": "execute_result"
    }
   ],
   "source": [
    "df"
   ]
  },
  {
   "cell_type": "code",
   "execution_count": 12,
   "metadata": {},
   "outputs": [
    {
     "data": {
      "text/plain": [
       "<AxesSubplot:>"
      ]
     },
     "execution_count": 12,
     "metadata": {},
     "output_type": "execute_result"
    },
    {
     "data": {
      "image/png": "[encoded data removed]",
      "text/plain": [
       "<Figure size 432x288 with 2 Axes>"
      ]
     },
     "metadata": {
      "image/png": {
       "height": 252,
       "width": 396
      },
      "needs_background": "light"
     },
     "output_type": "display_data"
    }
   ],
   "source": [
    "sns.heatmap(df[features+[target]].corr(), annot=True)"
   ]
  },
  {
   "cell_type": "code",
   "execution_count": 14,
   "metadata": {},
   "outputs": [],
   "source": [
    "# plt.scatter(df['PX_price'], df['PTA_price'])\n",
    "# plt.grid(linestyle = '--')\n",
    "# plt.xlabel(\"PX price\")\n",
    "# plt.ylabel(\"PTA price\")\n",
    "# plt.show()"
   ]
  },
  {
   "cell_type": "code",
   "execution_count": 15,
   "metadata": {},
   "outputs": [
    {
     "data": {
      "text/html": [
       "<style>#sk-container-id-2 {color: black;background-color: white;}#sk-container-id-2 pre{padding: 0;}#sk-container-id-2 div.sk-toggleable {background-color: white;}#sk-container-id-2 label.sk-toggleable__label {cursor: pointer;display: block;width: 100%;margin-bottom: 0;padding: 0.3em;box-sizing: border-box;text-align: center;}#sk-container-id-2 label.sk-toggleable__label-arrow:before {content: \"▸\";float: left;margin-right: 0.25em;color: #696969;}#sk-container-id-2 label.sk-toggleable__label-arrow:hover:before {color: black;}#sk-container-id-2 div.sk-estimator:hover label.sk-toggleable__label-arrow:before {color: black;}#sk-container-id-2 div.sk-toggleable__content {max-height: 0;max-width: 0;overflow: hidden;text-align: left;background-color: #f0f8ff;}#sk-container-id-2 div.sk-toggleable__content pre {margin: 0.2em;color: black;border-radius: 0.25em;background-color: #f0f8ff;}#sk-container-id-2 input.sk-toggleable__control:checked~div.sk-toggleable__content {max-height: 200px;max-width: 100%;overflow: auto;}#sk-container-id-2 input.sk-toggleable__control:checked~label.sk-toggleable__label-arrow:before {content: \"▾\";}#sk-container-id-2 div.sk-estimator input.sk-toggleable__control:checked~label.sk-toggleable__label {background-color: #d4ebff;}#sk-container-id-2 div.sk-label input.sk-toggleable__control:checked~label.sk-toggleable__label {background-color: #d4ebff;}#sk-container-id-2 input.sk-hidden--visually {border: 0;clip: rect(1px 1px 1px 1px);clip: rect(1px, 1px, 1px, 1px);height: 1px;margin: -1px;overflow: hidden;padding: 0;position: absolute;width: 1px;}#sk-container-id-2 div.sk-estimator {font-family: monospace;background-color: #f0f8ff;border: 1px dotted black;border-radius: 0.25em;box-sizing: border-box;margin-bottom: 0.5em;}#sk-container-id-2 div.sk-estimator:hover {background-color: #d4ebff;}#sk-container-id-2 div.sk-parallel-item::after {content: \"\";width: 100%;border-bottom: 1px solid gray;flex-grow: 1;}#sk-container-id-2 div.sk-label:hover label.sk-toggleable__label {background-color: #d4ebff;}#sk-container-id-2 div.sk-serial::before {content: \"\";position: absolute;border-left: 1px solid gray;box-sizing: border-box;top: 0;bottom: 0;left: 50%;z-index: 0;}#sk-container-id-2 div.sk-serial {display: flex;flex-direction: column;align-items: center;background-color: white;padding-right: 0.2em;padding-left: 0.2em;position: relative;}#sk-container-id-2 div.sk-item {position: relative;z-index: 1;}#sk-container-id-2 div.sk-parallel {display: flex;align-items: stretch;justify-content: center;background-color: white;position: relative;}#sk-container-id-2 div.sk-item::before, #sk-container-id-2 div.sk-parallel-item::before {content: \"\";position: absolute;border-left: 1px solid gray;box-sizing: border-box;top: 0;bottom: 0;left: 50%;z-index: -1;}#sk-container-id-2 div.sk-parallel-item {display: flex;flex-direction: column;z-index: 1;position: relative;background-color: white;}#sk-container-id-2 div.sk-parallel-item:first-child::after {align-self: flex-end;width: 50%;}#sk-container-id-2 div.sk-parallel-item:last-child::after {align-self: flex-start;width: 50%;}#sk-container-id-2 div.sk-parallel-item:only-child::after {width: 0;}#sk-container-id-2 div.sk-dashed-wrapped {border: 1px dashed gray;margin: 0 0.4em 0.5em 0.4em;box-sizing: border-box;padding-bottom: 0.4em;background-color: white;}#sk-container-id-2 div.sk-label label {font-family: monospace;font-weight: bold;display: inline-block;line-height: 1.2em;}#sk-container-id-2 div.sk-label-container {text-align: center;}#sk-container-id-2 div.sk-container {/* jupyter's `normalize.less` sets `[hidden] { display: none; }` but bootstrap.min.css set `[hidden] { display: none !important; }` so we also need the `!important` here to be able to override the default hidden behavior on the sphinx rendered scikit-learn.org. See: https://github.com/scikit-learn/scikit-learn/issues/21755 */display: inline-block !important;position: relative;}#sk-container-id-2 div.sk-text-repr-fallback {display: none;}</style><div id=\"sk-container-id-2\" class=\"sk-top-container\"><div class=\"sk-text-repr-fallback\"><pre>LinearRegression()</pre><b>In a Jupyter environment, please rerun this cell to show the HTML representation or trust the notebook. <br />On GitHub, the HTML representation is unable to render, please try loading this page with nbviewer.org.</b></div><div class=\"sk-container\" hidden><div class=\"sk-item\"><div class=\"sk-estimator sk-toggleable\"><input class=\"sk-toggleable__control sk-hidden--visually\" id=\"sk-estimator-id-2\" type=\"checkbox\" checked><label for=\"sk-estimator-id-2\" class=\"sk-toggleable__label sk-toggleable__label-arrow\">LinearRegression</label><div class=\"sk-toggleable__content\"><pre>LinearRegression()</pre></div></div></div></div></div>"
      ],
      "text/plain": [
       "LinearRegression()"
      ]
     },
     "execution_count": 15,
     "metadata": {},
     "output_type": "execute_result"
    }
   ],
   "source": [
    "from sklearn.linear_model import LinearRegression\n",
    "linear_regress = LinearRegression()\n",
    "\n",
    "linear_regress.fit(X_train, y_train)"
   ]
  },
  {
   "cell_type": "code",
   "execution_count": 16,
   "metadata": {},
   "outputs": [],
   "source": [
    "def evaluate(model):\n",
    "    rms_train = np.sqrt(mean_squared_error(y_train, model.predict(X_train)))\n",
    "    rms_test = np.sqrt(mean_squared_error(y_test, model.predict(X_test)))\n",
    "\n",
    "    print(\"RMSE train: %.2f\" % rms_train)\n",
    "    print(\"RMSE test: %.2f\" % rms_test)\n",
    "    "
   ]
  },
  {
   "cell_type": "code",
   "execution_count": 17,
   "metadata": {},
   "outputs": [
    {
     "name": "stdout",
     "output_type": "stream",
     "text": [
      "RMSE train: 800.07\n",
      "RMSE test: 708.89\n"
     ]
    }
   ],
   "source": [
    "evaluate(linear_regress)"
   ]
  },
  {
   "cell_type": "code",
   "execution_count": null,
   "metadata": {},
   "outputs": [],
   "source": [
    "from sklearn.svm import SVR\n",
    "\n",
    "svr = SVR()\n",
    "svr.fit(X_train, y_train)\n",
    "\n",
    "evaluate(svr)"
   ]
  },
  {
   "cell_type": "code",
   "execution_count": null,
   "metadata": {},
   "outputs": [],
   "source": [
    "from sklearn.ensemble import RandomForestRegressor\n",
    "\n",
    "rf = RandomForestRegressor(n_estimators=100, max_depth=4, min_samples_leaf=5)\n",
    "rf.fit(X_train, y_train)\n",
    "\n",
    "evaluate(rf)"
   ]
  },
  {
   "cell_type": "code",
   "execution_count": null,
   "metadata": {},
   "outputs": [],
   "source": [
    "from sklearn.linear_model import Lasso\n",
    "\n",
    "lasso = Lasso(alpha = 1)\n",
    "lasso.fit(X_train, y_train)\n",
    "evaluate(lasso)"
   ]
  },
  {
   "cell_type": "code",
   "execution_count": null,
   "metadata": {},
   "outputs": [],
   "source": [
    "linear_ptx = LinearRegression()\n",
    "linear_ptx.fit(X_train[['PX_price']], y_train)\n",
    "\n",
    "rms_train = np.sqrt(mean_squared_error(y_train, linear_ptx.predict(X_train[['PX_price']])))\n",
    "rms_test = np.sqrt(mean_squared_error(y_test, linear_ptx.predict(X_test[['PX_price']])))\n",
    "\n",
    "print(\"RMSE train: %.2f\" % rms_train)\n",
    "print(\"RMSE test: %.2f\" % rms_test)"
   ]
  },
  {
   "cell_type": "code",
   "execution_count": null,
   "metadata": {},
   "outputs": [],
   "source": []
  },
  {
   "cell_type": "code",
   "execution_count": null,
   "metadata": {},
   "outputs": [],
   "source": []
  },
  {
   "cell_type": "code",
   "execution_count": null,
   "metadata": {},
   "outputs": [],
   "source": []
  }
 ],
 "metadata": {
  "interpreter": {
   "hash": "40d3a090f54c6569ab1632332b64b2c03c39dcf918b08424e98f38b5ae0af88f"
  },
  "kernelspec": {
   "display_name": "Python 3 (ipykernel)",
   "language": "python",
   "name": "python3"
  },
  "language_info": {
   "codemirror_mode": {
    "name": "ipython",
    "version": 3
   },
   "file_extension": ".py",
   "mimetype": "text/x-python",
   "name": "python",
   "nbconvert_exporter": "python",
   "pygments_lexer": "ipython3",
   "version": "3.8.3"
  }
 },
 "nbformat": 4,
 "nbformat_minor": 4
}
