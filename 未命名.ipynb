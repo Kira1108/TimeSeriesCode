{
 "cells": [
  {
   "cell_type": "code",
   "execution_count": 5,
   "id": "1c460f14-b09d-4ff1-8ea5-449d69c29867",
   "metadata": {},
   "outputs": [],
   "source": [
    "!conda config --set show_channel_urls yes"
   ]
  },
  {
   "cell_type": "code",
   "execution_count": null,
   "id": "3632ce80-8a5e-43c5-bca7-200260cf4867",
   "metadata": {},
   "outputs": [],
   "source": [
    "C://users/computer/.condarc"
   ]
  },
  {
   "cell_type": "code",
   "execution_count": 1,
   "id": "5cf9ccf1-739e-4b88-b872-bc3b61a070c0",
   "metadata": {},
   "outputs": [],
   "source": [
    "import pandas as pd"
   ]
  },
  {
   "cell_type": "code",
   "execution_count": 3,
   "id": "d43a373b-05e0-41d4-93e3-47b7a40a39ee",
   "metadata": {},
   "outputs": [
    {
     "name": "stdout",
     "output_type": "stream",
     "text": [
      "Looking in indexes: https://pypi.tuna.tsinghua.edu.cn/simple\n",
      "Requirement already satisfied: faker in /opt/anaconda3/lib/python3.8/site-packages (13.11.1)\n",
      "Requirement already satisfied: python-dateutil>=2.4 in /opt/anaconda3/lib/python3.8/site-packages (from faker) (2.8.2)\n",
      "Requirement already satisfied: six>=1.5 in /opt/anaconda3/lib/python3.8/site-packages (from python-dateutil>=2.4->faker) (1.15.0)\n"
     ]
    }
   ],
   "source": [
    "!pip install faker"
   ]
  },
  {
   "cell_type": "code",
   "execution_count": null,
   "id": "99b49f1c-202e-4bdb-a069-de4f7b9e4697",
   "metadata": {},
   "outputs": [],
   "source": [
    "!conda install prophet"
   ]
  }
 ],
 "metadata": {
  "kernelspec": {
   "display_name": "Python 3 (ipykernel)",
   "language": "python",
   "name": "python3"
  },
  "language_info": {
   "codemirror_mode": {
    "name": "ipython",
    "version": 3
   },
   "file_extension": ".py",
   "mimetype": "text/x-python",
   "name": "python",
   "nbconvert_exporter": "python",
   "pygments_lexer": "ipython3",
   "version": "3.8.3"
  }
 },
 "nbformat": 4,
 "nbformat_minor": 5
}
